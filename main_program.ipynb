{
 "cells": [
  {
   "cell_type": "markdown",
   "metadata": {},
   "source": [
    "<h5>It is recommended to use a video file instead of using the live capture due to performance issue resulting in loosing of frames. </h5>\n",
    "\n",
    "<h5> When using video file you should know how many frames in every second or at least have an idea of approximate number and set the frame limit higher or exactly the number of the video frame"
   ]
  },
  {
   "cell_type": "code",
   "execution_count": 4,
   "metadata": {},
   "outputs": [],
   "source": [
    "import numpy as np \n",
    "import cv2 as cv\n",
    "import matplotlib.pyplot as plt\n",
    "from time import sleep\n",
    "from datetime import date"
   ]
  },
  {
   "cell_type": "code",
   "execution_count": 15,
   "metadata": {
    "scrolled": true
   },
   "outputs": [],
   "source": [
    "\n",
    "\n",
    "%matplotlib notebook\n",
    "plt.rcParams[\"animation.html\"] = \"jshtml\"\n",
    "plt.style.use(['dark_background'])\n",
    "\n",
    "\n",
    "class main():\n",
    "    def __init__(self, from_vid = False, vid_file = \"null\", camera_index = 0, frame_limit = 150, min_pxl_brtns = 225):\n",
    "        self.frame_limit = frame_limit\n",
    "        self.low_pxl_limit = min_pxl_brtns\n",
    "        self.cam_index = camera_index\n",
    "        \n",
    "        self.fig = plt.figure()\n",
    "        self.ax = self.fig.add_subplot(111)\n",
    "        self.ax.set_xlabel(\"Frame\")\n",
    "        self.ax.set_ylabel(\"Light Avrg\")\n",
    "        self.ax.set_title(\"Image Average Brightness (max of 255, min of 0)\")\n",
    "        self.fig.show()\n",
    "        \n",
    "        self.from_vid = from_vid\n",
    "        self.vid_file = vid_file\n",
    "\n",
    "        \n",
    "        \n",
    "    \n",
    "    def run_program(self):\n",
    "        cv_operation()\n",
    "\n",
    "\n",
    "    def cv_operation(self):\n",
    "        \n",
    "        if self.from_vid == False:\n",
    "            cap = cv.VideoCapture(self.cam_index)\n",
    "        elif self.from_vid == True:\n",
    "            cap = cv.VideoCapture(self.vid_file)\n",
    "        \n",
    "        \n",
    "        \n",
    "        if not cap.isOpened():\n",
    "            print(\"Cannot open camera\")\n",
    "            exit()\n",
    "        \n",
    "        light_data = []\n",
    "        today = date.today()\n",
    "        \n",
    "       \n",
    "        while True:\n",
    "            ret, frame = cap.read()\n",
    "            \n",
    "            \n",
    "            if not ret:\n",
    "                print(\"End of process. Exiting ...\")\n",
    "                break\n",
    "                \n",
    "            \n",
    "            gray = cv.cvtColor(frame, cv.COLOR_BGR2GRAY)\n",
    "            cv.imshow('frame', gray)\n",
    "            \n",
    "            image_arr = np.array(gray)\n",
    "            max_light_val = np.max(image_arr)\n",
    "            \n",
    "            max_pxl_limit = 255\n",
    "            low_pxl_limit = self.low_pxl_limit\n",
    "            \n",
    "\n",
    "            n_pixel_read_total = 0\n",
    "            sum_of_all_array = 0\n",
    "            \n",
    "            while low_pxl_limit != max_pxl_limit:\n",
    "                n_pxl_in_array = np.count_nonzero(image_arr == low_pxl_limit)\n",
    "                sum_of_all_array = sum_of_all_array + (n_pxl_in_array * low_pxl_limit)\n",
    "                n_pixel_read_total = n_pixel_read_total + n_pxl_in_array\n",
    "                \n",
    "                low_pxl_limit = low_pxl_limit + 1\n",
    "            \n",
    "            \n",
    "            if n_pixel_read_total == 0:\n",
    "                avg_pxl_val = 0\n",
    "            elif n_pixel_read_total != 0:\n",
    "                avg_pxl_val = sum_of_all_array / n_pixel_read_total\n",
    "            else:\n",
    "                print(\"FATAL ERROR\")\n",
    "                break\n",
    "                \n",
    "\n",
    "            \n",
    "            light_data.append(avg_pxl_val)\n",
    "            arr_size = len(light_data)\n",
    "            x_axis = [i for i in range(arr_size)]\n",
    "            \n",
    "            \n",
    "            \n",
    "            data_plot = self.ax.plot(x_axis, light_data, label = \"data\")\n",
    "            self.fig.canvas.draw()\n",
    "            \n",
    "            if arr_size == self.frame_limit:\n",
    "                light_data.clear()\n",
    "                x_axis.clear()\n",
    "                plt.cla()\n",
    "                \n",
    "\n",
    "            \n",
    "            if cv.waitKey(1) == ord('q'):\n",
    "                break\n",
    "        cap.release()\n",
    "        cv.destroyAllWindows()"
   ]
  },
  {
   "cell_type": "markdown",
   "metadata": {},
   "source": [
    "<h2>Press \"q\" in keybard to quit the program</h2>\n",
    "\n",
    "<h4>parameter: </h4>\n",
    "<br><br>\n",
    "camera_index: default 0, index of camera to use. 0 means the program will use the camera on the device<br><br>\n",
    "frame_limit: default 150, this will limit the number of data on on plot in x-axis (this will affect program performnce)<br><br>\n",
    "min_pxl_brtns: default 0, this will limit on how many pixel will be calculate (maximum value: 255)(greatly affect the program performnce)\n",
    "\n"
   ]
  },
  {
   "cell_type": "code",
   "execution_count": 17,
   "metadata": {
    "scrolled": true
   },
   "outputs": [],
   "source": [
    "run_code = main(from_vid = True, vid_file = \"sample_short.mp4\", frame_limit = 255, min_pxl_brtns = 0)\n",
    "run_code.cv_operation() "
   ]
  },
  {
   "cell_type": "code",
   "execution_count": null,
   "metadata": {},
   "outputs": [],
   "source": []
  }
 ],
 "metadata": {
  "kernelspec": {
   "display_name": "Python 3 (ipykernel)",
   "language": "python",
   "name": "python3"
  },
  "language_info": {
   "codemirror_mode": {
    "name": "ipython",
    "version": 3
   },
   "file_extension": ".py",
   "mimetype": "text/x-python",
   "name": "python",
   "nbconvert_exporter": "python",
   "pygments_lexer": "ipython3",
   "version": "3.10.0"
  }
 },
 "nbformat": 4,
 "nbformat_minor": 4
}
